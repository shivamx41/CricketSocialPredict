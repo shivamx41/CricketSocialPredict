{
 "cells": [
  {
   "cell_type": "code",
   "execution_count": 2,
   "id": "29eb7119",
   "metadata": {},
   "outputs": [],
   "source": [
    "import pandas as pd\n",
    "import numpy as np\n",
    "from sklearn.linear_model import LinearRegression\n",
    "import matplotlib\n",
    "import matplotlib.pyplot as plt\n",
    "import seaborn as sns\n",
    "import pickle\n",
    "%matplotlib inline\n",
    "\n"
   ]
  },
  {
   "cell_type": "code",
   "execution_count": 3,
   "id": "4555470b",
   "metadata": {},
   "outputs": [
    {
     "data": {
      "text/html": [
       "<div>\n",
       "<style scoped>\n",
       "    .dataframe tbody tr th:only-of-type {\n",
       "        vertical-align: middle;\n",
       "    }\n",
       "\n",
       "    .dataframe tbody tr th {\n",
       "        vertical-align: top;\n",
       "    }\n",
       "\n",
       "    .dataframe thead th {\n",
       "        text-align: right;\n",
       "    }\n",
       "</style>\n",
       "<table border=\"1\" class=\"dataframe\">\n",
       "  <thead>\n",
       "    <tr style=\"text-align: right;\">\n",
       "      <th></th>\n",
       "      <th>tournament_id</th>\n",
       "      <th>game_id</th>\n",
       "      <th>inning</th>\n",
       "      <th>batting_team</th>\n",
       "      <th>bowling_team</th>\n",
       "      <th>over_num</th>\n",
       "      <th>ball_num</th>\n",
       "      <th>stage</th>\n",
       "      <th>bowler</th>\n",
       "      <th>bowler_num</th>\n",
       "      <th>...</th>\n",
       "      <th>LegByes_runs</th>\n",
       "      <th>Byes_runs</th>\n",
       "      <th>Bat_runs</th>\n",
       "      <th>Balls_faced</th>\n",
       "      <th>batsman_id</th>\n",
       "      <th>bowler_id</th>\n",
       "      <th>scoring</th>\n",
       "      <th>boundary</th>\n",
       "      <th>batsman_ball</th>\n",
       "      <th>scoring_id</th>\n",
       "    </tr>\n",
       "  </thead>\n",
       "  <tbody>\n",
       "    <tr>\n",
       "      <th>0</th>\n",
       "      <td>1</td>\n",
       "      <td>1</td>\n",
       "      <td>1</td>\n",
       "      <td>ACCENTURE</td>\n",
       "      <td>ROYAL ENFIELD</td>\n",
       "      <td>1</td>\n",
       "      <td>1</td>\n",
       "      <td>powerplay</td>\n",
       "      <td>Senthil Nathan</td>\n",
       "      <td>1</td>\n",
       "      <td>...</td>\n",
       "      <td>0</td>\n",
       "      <td>0</td>\n",
       "      <td>1</td>\n",
       "      <td>1</td>\n",
       "      <td>1_Suresh</td>\n",
       "      <td>1_Senthil Nathan</td>\n",
       "      <td>strike rotation</td>\n",
       "      <td>NaN</td>\n",
       "      <td>Suresh1</td>\n",
       "      <td>2</td>\n",
       "    </tr>\n",
       "    <tr>\n",
       "      <th>1</th>\n",
       "      <td>1</td>\n",
       "      <td>1</td>\n",
       "      <td>1</td>\n",
       "      <td>ACCENTURE</td>\n",
       "      <td>ROYAL ENFIELD</td>\n",
       "      <td>1</td>\n",
       "      <td>2</td>\n",
       "      <td>powerplay</td>\n",
       "      <td>Senthil Nathan</td>\n",
       "      <td>1</td>\n",
       "      <td>...</td>\n",
       "      <td>0</td>\n",
       "      <td>0</td>\n",
       "      <td>0</td>\n",
       "      <td>1</td>\n",
       "      <td>2_Ajay Narayanan</td>\n",
       "      <td>1_Senthil Nathan</td>\n",
       "      <td>dot ball</td>\n",
       "      <td>NaN</td>\n",
       "      <td>AjayNarayanan1</td>\n",
       "      <td>1</td>\n",
       "    </tr>\n",
       "    <tr>\n",
       "      <th>2</th>\n",
       "      <td>1</td>\n",
       "      <td>1</td>\n",
       "      <td>1</td>\n",
       "      <td>ACCENTURE</td>\n",
       "      <td>ROYAL ENFIELD</td>\n",
       "      <td>1</td>\n",
       "      <td>3</td>\n",
       "      <td>powerplay</td>\n",
       "      <td>Senthil Nathan</td>\n",
       "      <td>1</td>\n",
       "      <td>...</td>\n",
       "      <td>0</td>\n",
       "      <td>0</td>\n",
       "      <td>4</td>\n",
       "      <td>2</td>\n",
       "      <td>2_Ajay Narayanan</td>\n",
       "      <td>1_Senthil Nathan</td>\n",
       "      <td>boundaries</td>\n",
       "      <td>four</td>\n",
       "      <td>AjayNarayanan2</td>\n",
       "      <td>4</td>\n",
       "    </tr>\n",
       "    <tr>\n",
       "      <th>3</th>\n",
       "      <td>1</td>\n",
       "      <td>1</td>\n",
       "      <td>1</td>\n",
       "      <td>ACCENTURE</td>\n",
       "      <td>ROYAL ENFIELD</td>\n",
       "      <td>1</td>\n",
       "      <td>4</td>\n",
       "      <td>powerplay</td>\n",
       "      <td>Senthil Nathan</td>\n",
       "      <td>1</td>\n",
       "      <td>...</td>\n",
       "      <td>0</td>\n",
       "      <td>0</td>\n",
       "      <td>0</td>\n",
       "      <td>3</td>\n",
       "      <td>2_Ajay Narayanan</td>\n",
       "      <td>1_Senthil Nathan</td>\n",
       "      <td>dot ball</td>\n",
       "      <td>NaN</td>\n",
       "      <td>AjayNarayanan3</td>\n",
       "      <td>1</td>\n",
       "    </tr>\n",
       "    <tr>\n",
       "      <th>4</th>\n",
       "      <td>1</td>\n",
       "      <td>1</td>\n",
       "      <td>1</td>\n",
       "      <td>ACCENTURE</td>\n",
       "      <td>ROYAL ENFIELD</td>\n",
       "      <td>1</td>\n",
       "      <td>4</td>\n",
       "      <td>powerplay</td>\n",
       "      <td>Senthil Nathan</td>\n",
       "      <td>1</td>\n",
       "      <td>...</td>\n",
       "      <td>0</td>\n",
       "      <td>0</td>\n",
       "      <td>3</td>\n",
       "      <td>2</td>\n",
       "      <td>1_Suresh</td>\n",
       "      <td>1_Senthil Nathan</td>\n",
       "      <td>aggressive running</td>\n",
       "      <td>NaN</td>\n",
       "      <td>Suresh2</td>\n",
       "      <td>3</td>\n",
       "    </tr>\n",
       "  </tbody>\n",
       "</table>\n",
       "<p>5 rows × 26 columns</p>\n",
       "</div>"
      ],
      "text/plain": [
       "   tournament_id  game_id  inning batting_team   bowling_team  over_num  \\\n",
       "0              1        1       1   ACCENTURE   ROYAL ENFIELD         1   \n",
       "1              1        1       1   ACCENTURE   ROYAL ENFIELD         1   \n",
       "2              1        1       1   ACCENTURE   ROYAL ENFIELD         1   \n",
       "3              1        1       1   ACCENTURE   ROYAL ENFIELD         1   \n",
       "4              1        1       1   ACCENTURE   ROYAL ENFIELD         1   \n",
       "\n",
       "   ball_num      stage          bowler  bowler_num  ... LegByes_runs  \\\n",
       "0         1  powerplay  Senthil Nathan           1  ...            0   \n",
       "1         2  powerplay  Senthil Nathan           1  ...            0   \n",
       "2         3  powerplay  Senthil Nathan           1  ...            0   \n",
       "3         4  powerplay  Senthil Nathan           1  ...            0   \n",
       "4         4  powerplay  Senthil Nathan           1  ...            0   \n",
       "\n",
       "   Byes_runs Bat_runs  Balls_faced         batsman_id         bowler_id  \\\n",
       "0          0        1            1          1_Suresh   1_Senthil Nathan   \n",
       "1          0        0            1  2_Ajay Narayanan   1_Senthil Nathan   \n",
       "2          0        4            2  2_Ajay Narayanan   1_Senthil Nathan   \n",
       "3          0        0            3  2_Ajay Narayanan   1_Senthil Nathan   \n",
       "4          0        3            2          1_Suresh   1_Senthil Nathan   \n",
       "\n",
       "              scoring  boundary    batsman_ball  scoring_id  \n",
       "0     strike rotation       NaN         Suresh1           2  \n",
       "1            dot ball       NaN  AjayNarayanan1           1  \n",
       "2          boundaries      four  AjayNarayanan2           4  \n",
       "3            dot ball       NaN  AjayNarayanan3           1  \n",
       "4  aggressive running       NaN         Suresh2           3  \n",
       "\n",
       "[5 rows x 26 columns]"
      ]
     },
     "execution_count": 3,
     "metadata": {},
     "output_type": "execute_result"
    }
   ],
   "source": [
    "df = pd.read_excel (r'E:\\test1.xlsx', sheet_name='Sheet1')\n",
    "df.head()"
   ]
  },
  {
   "cell_type": "code",
   "execution_count": 4,
   "id": "1fd0e331",
   "metadata": {},
   "outputs": [
    {
     "data": {
      "text/plain": [
       "tournament_id        0\n",
       "game_id              0\n",
       "inning               0\n",
       "batting_team         0\n",
       "bowling_team         0\n",
       "over_num             0\n",
       "ball_num             0\n",
       "stage                0\n",
       "bowler               0\n",
       "bowler_num           0\n",
       "batsman              0\n",
       "batsman_num          0\n",
       "howout               0\n",
       "wide_runs            0\n",
       "noball               0\n",
       "noball_bat_runs      0\n",
       "LegByes_runs         0\n",
       "Byes_runs            0\n",
       "Bat_runs             0\n",
       "Balls_faced          0\n",
       "batsman_id           0\n",
       "bowler_id            0\n",
       "scoring              0\n",
       "boundary           171\n",
       "batsman_ball         0\n",
       "scoring_id           0\n",
       "dtype: int64"
      ]
     },
     "execution_count": 4,
     "metadata": {},
     "output_type": "execute_result"
    }
   ],
   "source": [
    "df.isnull().sum()"
   ]
  },
  {
   "cell_type": "code",
   "execution_count": 5,
   "id": "f9f9e5af",
   "metadata": {},
   "outputs": [],
   "source": [
    "test_df = df"
   ]
  },
  {
   "cell_type": "code",
   "execution_count": 6,
   "id": "49f4bc67",
   "metadata": {},
   "outputs": [
    {
     "data": {
      "image/png": "[encoded data removed]",
      "text/plain": [
       "<Figure size 864x288 with 1 Axes>"
      ]
     },
     "metadata": {
      "needs_background": "light"
     },
     "output_type": "display_data"
    }
   ],
   "source": [
    "plt.figure(figsize=(12,4))\n",
    "sns.heatmap(test_df.isnull(),cbar=False,cmap='viridis',yticklabels=False)\n",
    "plt.title('Missing value in the dataset');"
   ]
  },
  {
   "cell_type": "code",
   "execution_count": 7,
   "id": "702979ee",
   "metadata": {},
   "outputs": [
    {
     "name": "stdout",
     "output_type": "stream",
     "text": [
      "<class 'pandas.core.frame.DataFrame'>\n",
      "RangeIndex: 191 entries, 0 to 190\n",
      "Data columns (total 26 columns):\n",
      " #   Column           Non-Null Count  Dtype \n",
      "---  ------           --------------  ----- \n",
      " 0   tournament_id    191 non-null    int64 \n",
      " 1   game_id          191 non-null    int64 \n",
      " 2   inning           191 non-null    int64 \n",
      " 3   batting_team     191 non-null    object\n",
      " 4   bowling_team     191 non-null    object\n",
      " 5   over_num         191 non-null    int64 \n",
      " 6   ball_num         191 non-null    int64 \n",
      " 7   stage            191 non-null    object\n",
      " 8   bowler           191 non-null    object\n",
      " 9   bowler_num       191 non-null    int64 \n",
      " 10  batsman          191 non-null    object\n",
      " 11  batsman_num      191 non-null    int64 \n",
      " 12  howout           191 non-null    object\n",
      " 13  wide_runs        191 non-null    int64 \n",
      " 14  noball           191 non-null    int64 \n",
      " 15  noball_bat_runs  191 non-null    int64 \n",
      " 16  LegByes_runs     191 non-null    int64 \n",
      " 17  Byes_runs        191 non-null    int64 \n",
      " 18  Bat_runs         191 non-null    int64 \n",
      " 19  Balls_faced      191 non-null    int64 \n",
      " 20  batsman_id       191 non-null    object\n",
      " 21  bowler_id        191 non-null    object\n",
      " 22  scoring          191 non-null    object\n",
      " 23  boundary         20 non-null     object\n",
      " 24  batsman_ball     191 non-null    object\n",
      " 25  scoring_id       191 non-null    int64 \n",
      "dtypes: int64(15), object(11)\n",
      "memory usage: 38.9+ KB\n"
     ]
    }
   ],
   "source": [
    "test_df.info()"
   ]
  },
  {
   "cell_type": "code",
   "execution_count": 8,
   "id": "d1d022b2",
   "metadata": {},
   "outputs": [
    {
     "data": {
      "text/plain": [
       "four    18\n",
       "six      2\n",
       "Name: boundary, dtype: int64"
      ]
     },
     "execution_count": 8,
     "metadata": {},
     "output_type": "execute_result"
    }
   ],
   "source": [
    "test_df['boundary'].value_counts()"
   ]
  },
  {
   "cell_type": "code",
   "execution_count": 9,
   "id": "b77da996",
   "metadata": {},
   "outputs": [],
   "source": [
    "test_df=test_df.replace({\"boundary\":{\"six\":\"6\",\"four\":\"4\",np.nan:0}})"
   ]
  },
  {
   "cell_type": "code",
   "execution_count": 10,
   "id": "7e24c63d",
   "metadata": {},
   "outputs": [],
   "source": [
    "test_df['boundary'] = test_df['boundary'].astype(int)"
   ]
  },
  {
   "cell_type": "code",
   "execution_count": 11,
   "id": "98a47645",
   "metadata": {},
   "outputs": [
    {
     "data": {
      "text/plain": [
       "middle       95\n",
       "powerplay    59\n",
       "death        37\n",
       "Name: stage, dtype: int64"
      ]
     },
     "execution_count": 11,
     "metadata": {},
     "output_type": "execute_result"
    }
   ],
   "source": [
    "test_df['stage'].value_counts()"
   ]
  },
  {
   "cell_type": "code",
   "execution_count": 12,
   "id": "ea7106f0",
   "metadata": {},
   "outputs": [],
   "source": [
    "test_df=test_df.replace({\"stage\":{\"powerplay\":\"1\",\"middle\":\"2\",\"death\":\"3\",np.nan:0}})"
   ]
  },
  {
   "cell_type": "code",
   "execution_count": 13,
   "id": "67b70131",
   "metadata": {},
   "outputs": [],
   "source": [
    "test_df['stage'] = test_df['stage'].astype(int)"
   ]
  },
  {
   "cell_type": "code",
   "execution_count": 14,
   "id": "05b4fcaa",
   "metadata": {},
   "outputs": [],
   "source": [
    "test_df['wickets'] = test_df['howout']"
   ]
  },
  {
   "cell_type": "code",
   "execution_count": 15,
   "id": "ee5ff6c0",
   "metadata": {},
   "outputs": [
    {
     "data": {
      "text/plain": [
       "notout     181\n",
       "Catch        6\n",
       "RunOut       2\n",
       "Bowled       1\n",
       "Stumped      1\n",
       "Name: wickets, dtype: int64"
      ]
     },
     "execution_count": 15,
     "metadata": {},
     "output_type": "execute_result"
    }
   ],
   "source": [
    "test_df['wickets'].value_counts()"
   ]
  },
  {
   "cell_type": "code",
   "execution_count": 16,
   "id": "850e9131",
   "metadata": {},
   "outputs": [],
   "source": [
    "test_df=test_df.replace({\"wickets\":{\"notout\":\"0\",\"Catch\":\"1\",\"RunOut\":\"1\",\"Bowled\":\"1\",\"Stumped\":\"1\",np.nan:0}})"
   ]
  },
  {
   "cell_type": "code",
   "execution_count": 17,
   "id": "cbf65349",
   "metadata": {},
   "outputs": [],
   "source": [
    "test_df['wickets'] = test_df['wickets'].astype(int)"
   ]
  },
  {
   "cell_type": "code",
   "execution_count": 18,
   "id": "5696abe8",
   "metadata": {},
   "outputs": [
    {
     "data": {
      "text/plain": [
       "notout     181\n",
       "Catch        6\n",
       "RunOut       2\n",
       "Bowled       1\n",
       "Stumped      1\n",
       "Name: howout, dtype: int64"
      ]
     },
     "execution_count": 18,
     "metadata": {},
     "output_type": "execute_result"
    }
   ],
   "source": [
    "test_df['howout'].value_counts()"
   ]
  },
  {
   "cell_type": "code",
   "execution_count": 19,
   "id": "adad53e5",
   "metadata": {},
   "outputs": [],
   "source": [
    "test_df=test_df.replace({\"howout\":{\"notout\":\"0\",\"Catch\":\"1\",\"RunOut\":\"2\",\"Bowled\":\"3\",\"Stumped\":\"4\",np.nan:0}})"
   ]
  },
  {
   "cell_type": "code",
   "execution_count": 20,
   "id": "e1e71ae1",
   "metadata": {},
   "outputs": [],
   "source": [
    "test_df['howout'] = test_df['howout'].astype(int)"
   ]
  },
  {
   "cell_type": "code",
   "execution_count": 21,
   "id": "36b67a75",
   "metadata": {},
   "outputs": [
    {
     "name": "stdout",
     "output_type": "stream",
     "text": [
      "<class 'pandas.core.frame.DataFrame'>\n",
      "RangeIndex: 191 entries, 0 to 190\n",
      "Data columns (total 27 columns):\n",
      " #   Column           Non-Null Count  Dtype \n",
      "---  ------           --------------  ----- \n",
      " 0   tournament_id    191 non-null    int64 \n",
      " 1   game_id          191 non-null    int64 \n",
      " 2   inning           191 non-null    int64 \n",
      " 3   batting_team     191 non-null    object\n",
      " 4   bowling_team     191 non-null    object\n",
      " 5   over_num         191 non-null    int64 \n",
      " 6   ball_num         191 non-null    int64 \n",
      " 7   stage            191 non-null    int32 \n",
      " 8   bowler           191 non-null    object\n",
      " 9   bowler_num       191 non-null    int64 \n",
      " 10  batsman          191 non-null    object\n",
      " 11  batsman_num      191 non-null    int64 \n",
      " 12  howout           191 non-null    int32 \n",
      " 13  wide_runs        191 non-null    int64 \n",
      " 14  noball           191 non-null    int64 \n",
      " 15  noball_bat_runs  191 non-null    int64 \n",
      " 16  LegByes_runs     191 non-null    int64 \n",
      " 17  Byes_runs        191 non-null    int64 \n",
      " 18  Bat_runs         191 non-null    int64 \n",
      " 19  Balls_faced      191 non-null    int64 \n",
      " 20  batsman_id       191 non-null    object\n",
      " 21  bowler_id        191 non-null    object\n",
      " 22  scoring          191 non-null    object\n",
      " 23  boundary         191 non-null    int32 \n",
      " 24  batsman_ball     191 non-null    object\n",
      " 25  scoring_id       191 non-null    int64 \n",
      " 26  wickets          191 non-null    int32 \n",
      "dtypes: int32(4), int64(15), object(8)\n",
      "memory usage: 37.4+ KB\n"
     ]
    },
    {
     "data": {
      "text/html": [
       "<div>\n",
       "<style scoped>\n",
       "    .dataframe tbody tr th:only-of-type {\n",
       "        vertical-align: middle;\n",
       "    }\n",
       "\n",
       "    .dataframe tbody tr th {\n",
       "        vertical-align: top;\n",
       "    }\n",
       "\n",
       "    .dataframe thead th {\n",
       "        text-align: right;\n",
       "    }\n",
       "</style>\n",
       "<table border=\"1\" class=\"dataframe\">\n",
       "  <thead>\n",
       "    <tr style=\"text-align: right;\">\n",
       "      <th></th>\n",
       "      <th>tournament_id</th>\n",
       "      <th>game_id</th>\n",
       "      <th>inning</th>\n",
       "      <th>batting_team</th>\n",
       "      <th>bowling_team</th>\n",
       "      <th>over_num</th>\n",
       "      <th>ball_num</th>\n",
       "      <th>stage</th>\n",
       "      <th>bowler</th>\n",
       "      <th>bowler_num</th>\n",
       "      <th>...</th>\n",
       "      <th>Byes_runs</th>\n",
       "      <th>Bat_runs</th>\n",
       "      <th>Balls_faced</th>\n",
       "      <th>batsman_id</th>\n",
       "      <th>bowler_id</th>\n",
       "      <th>scoring</th>\n",
       "      <th>boundary</th>\n",
       "      <th>batsman_ball</th>\n",
       "      <th>scoring_id</th>\n",
       "      <th>wickets</th>\n",
       "    </tr>\n",
       "  </thead>\n",
       "  <tbody>\n",
       "    <tr>\n",
       "      <th>0</th>\n",
       "      <td>1</td>\n",
       "      <td>1</td>\n",
       "      <td>1</td>\n",
       "      <td>ACCENTURE</td>\n",
       "      <td>ROYAL ENFIELD</td>\n",
       "      <td>1</td>\n",
       "      <td>1</td>\n",
       "      <td>1</td>\n",
       "      <td>Senthil Nathan</td>\n",
       "      <td>1</td>\n",
       "      <td>...</td>\n",
       "      <td>0</td>\n",
       "      <td>1</td>\n",
       "      <td>1</td>\n",
       "      <td>1_Suresh</td>\n",
       "      <td>1_Senthil Nathan</td>\n",
       "      <td>strike rotation</td>\n",
       "      <td>0</td>\n",
       "      <td>Suresh1</td>\n",
       "      <td>2</td>\n",
       "      <td>0</td>\n",
       "    </tr>\n",
       "    <tr>\n",
       "      <th>1</th>\n",
       "      <td>1</td>\n",
       "      <td>1</td>\n",
       "      <td>1</td>\n",
       "      <td>ACCENTURE</td>\n",
       "      <td>ROYAL ENFIELD</td>\n",
       "      <td>1</td>\n",
       "      <td>2</td>\n",
       "      <td>1</td>\n",
       "      <td>Senthil Nathan</td>\n",
       "      <td>1</td>\n",
       "      <td>...</td>\n",
       "      <td>0</td>\n",
       "      <td>0</td>\n",
       "      <td>1</td>\n",
       "      <td>2_Ajay Narayanan</td>\n",
       "      <td>1_Senthil Nathan</td>\n",
       "      <td>dot ball</td>\n",
       "      <td>0</td>\n",
       "      <td>AjayNarayanan1</td>\n",
       "      <td>1</td>\n",
       "      <td>0</td>\n",
       "    </tr>\n",
       "    <tr>\n",
       "      <th>2</th>\n",
       "      <td>1</td>\n",
       "      <td>1</td>\n",
       "      <td>1</td>\n",
       "      <td>ACCENTURE</td>\n",
       "      <td>ROYAL ENFIELD</td>\n",
       "      <td>1</td>\n",
       "      <td>3</td>\n",
       "      <td>1</td>\n",
       "      <td>Senthil Nathan</td>\n",
       "      <td>1</td>\n",
       "      <td>...</td>\n",
       "      <td>0</td>\n",
       "      <td>4</td>\n",
       "      <td>2</td>\n",
       "      <td>2_Ajay Narayanan</td>\n",
       "      <td>1_Senthil Nathan</td>\n",
       "      <td>boundaries</td>\n",
       "      <td>4</td>\n",
       "      <td>AjayNarayanan2</td>\n",
       "      <td>4</td>\n",
       "      <td>0</td>\n",
       "    </tr>\n",
       "    <tr>\n",
       "      <th>3</th>\n",
       "      <td>1</td>\n",
       "      <td>1</td>\n",
       "      <td>1</td>\n",
       "      <td>ACCENTURE</td>\n",
       "      <td>ROYAL ENFIELD</td>\n",
       "      <td>1</td>\n",
       "      <td>4</td>\n",
       "      <td>1</td>\n",
       "      <td>Senthil Nathan</td>\n",
       "      <td>1</td>\n",
       "      <td>...</td>\n",
       "      <td>0</td>\n",
       "      <td>0</td>\n",
       "      <td>3</td>\n",
       "      <td>2_Ajay Narayanan</td>\n",
       "      <td>1_Senthil Nathan</td>\n",
       "      <td>dot ball</td>\n",
       "      <td>0</td>\n",
       "      <td>AjayNarayanan3</td>\n",
       "      <td>1</td>\n",
       "      <td>0</td>\n",
       "    </tr>\n",
       "    <tr>\n",
       "      <th>4</th>\n",
       "      <td>1</td>\n",
       "      <td>1</td>\n",
       "      <td>1</td>\n",
       "      <td>ACCENTURE</td>\n",
       "      <td>ROYAL ENFIELD</td>\n",
       "      <td>1</td>\n",
       "      <td>4</td>\n",
       "      <td>1</td>\n",
       "      <td>Senthil Nathan</td>\n",
       "      <td>1</td>\n",
       "      <td>...</td>\n",
       "      <td>0</td>\n",
       "      <td>3</td>\n",
       "      <td>2</td>\n",
       "      <td>1_Suresh</td>\n",
       "      <td>1_Senthil Nathan</td>\n",
       "      <td>aggressive running</td>\n",
       "      <td>0</td>\n",
       "      <td>Suresh2</td>\n",
       "      <td>3</td>\n",
       "      <td>0</td>\n",
       "    </tr>\n",
       "  </tbody>\n",
       "</table>\n",
       "<p>5 rows × 27 columns</p>\n",
       "</div>"
      ],
      "text/plain": [
       "   tournament_id  game_id  inning batting_team   bowling_team  over_num  \\\n",
       "0              1        1       1   ACCENTURE   ROYAL ENFIELD         1   \n",
       "1              1        1       1   ACCENTURE   ROYAL ENFIELD         1   \n",
       "2              1        1       1   ACCENTURE   ROYAL ENFIELD         1   \n",
       "3              1        1       1   ACCENTURE   ROYAL ENFIELD         1   \n",
       "4              1        1       1   ACCENTURE   ROYAL ENFIELD         1   \n",
       "\n",
       "   ball_num  stage          bowler  bowler_num  ... Byes_runs  Bat_runs  \\\n",
       "0         1      1  Senthil Nathan           1  ...         0         1   \n",
       "1         2      1  Senthil Nathan           1  ...         0         0   \n",
       "2         3      1  Senthil Nathan           1  ...         0         4   \n",
       "3         4      1  Senthil Nathan           1  ...         0         0   \n",
       "4         4      1  Senthil Nathan           1  ...         0         3   \n",
       "\n",
       "   Balls_faced         batsman_id         bowler_id             scoring  \\\n",
       "0            1          1_Suresh   1_Senthil Nathan     strike rotation   \n",
       "1            1  2_Ajay Narayanan   1_Senthil Nathan            dot ball   \n",
       "2            2  2_Ajay Narayanan   1_Senthil Nathan          boundaries   \n",
       "3            3  2_Ajay Narayanan   1_Senthil Nathan            dot ball   \n",
       "4            2          1_Suresh   1_Senthil Nathan  aggressive running   \n",
       "\n",
       "   boundary    batsman_ball  scoring_id  wickets  \n",
       "0         0         Suresh1           2        0  \n",
       "1         0  AjayNarayanan1           1        0  \n",
       "2         4  AjayNarayanan2           4        0  \n",
       "3         0  AjayNarayanan3           1        0  \n",
       "4         0         Suresh2           3        0  \n",
       "\n",
       "[5 rows x 27 columns]"
      ]
     },
     "execution_count": 21,
     "metadata": {},
     "output_type": "execute_result"
    }
   ],
   "source": [
    "test_df.info()\n",
    "test_df.head()"
   ]
  },
  {
   "cell_type": "code",
   "execution_count": 22,
   "id": "3f14ec89",
   "metadata": {},
   "outputs": [],
   "source": [
    "columns_to_remove = ['tournament_id', 'game_id', 'inning', 'bowler','batsman','batsman_id','bowler_id','scoring','batsman_ball']\n",
    "test_df.drop(labels=columns_to_remove, axis=1, inplace=True)"
   ]
  },
  {
   "cell_type": "code",
   "execution_count": 23,
   "id": "9a21a87b",
   "metadata": {},
   "outputs": [],
   "source": [
    "test_df[\"Overs\"] = test_df['over_num'].map(str) + '.' + test_df['ball_num'].map(str)"
   ]
  },
  {
   "cell_type": "code",
   "execution_count": 24,
   "id": "d6b0b806",
   "metadata": {},
   "outputs": [],
   "source": [
    "test_df['Overs'] = test_df['Overs'].astype(float)"
   ]
  },
  {
   "cell_type": "code",
   "execution_count": 25,
   "id": "964ad2b8",
   "metadata": {},
   "outputs": [
    {
     "data": {
      "text/plain": [
       "0     1\n",
       "1     1\n",
       "2     5\n",
       "3     7\n",
       "4    10\n",
       "Name: runs, dtype: int64"
      ]
     },
     "execution_count": 25,
     "metadata": {},
     "output_type": "execute_result"
    }
   ],
   "source": [
    "df = test_df['wide_runs']+test_df['noball']+test_df['Byes_runs']+test_df['Bat_runs']+test_df['LegByes_runs']\n",
    "test_df[\"runs\"] = df.cumsum()\n",
    "test_df['runs'].head()"
   ]
  },
  {
   "cell_type": "code",
   "execution_count": 26,
   "id": "5325507f",
   "metadata": {},
   "outputs": [
    {
     "data": {
      "text/html": [
       "<div>\n",
       "<style scoped>\n",
       "    .dataframe tbody tr th:only-of-type {\n",
       "        vertical-align: middle;\n",
       "    }\n",
       "\n",
       "    .dataframe tbody tr th {\n",
       "        vertical-align: top;\n",
       "    }\n",
       "\n",
       "    .dataframe thead th {\n",
       "        text-align: right;\n",
       "    }\n",
       "</style>\n",
       "<table border=\"1\" class=\"dataframe\">\n",
       "  <thead>\n",
       "    <tr style=\"text-align: right;\">\n",
       "      <th></th>\n",
       "      <th>batting_team</th>\n",
       "      <th>bowling_team</th>\n",
       "      <th>over_num</th>\n",
       "      <th>ball_num</th>\n",
       "      <th>stage</th>\n",
       "      <th>bowler_num</th>\n",
       "      <th>batsman_num</th>\n",
       "      <th>howout</th>\n",
       "      <th>wide_runs</th>\n",
       "      <th>noball</th>\n",
       "      <th>noball_bat_runs</th>\n",
       "      <th>LegByes_runs</th>\n",
       "      <th>Byes_runs</th>\n",
       "      <th>Bat_runs</th>\n",
       "      <th>Balls_faced</th>\n",
       "      <th>boundary</th>\n",
       "      <th>scoring_id</th>\n",
       "      <th>wickets</th>\n",
       "      <th>Overs</th>\n",
       "      <th>runs</th>\n",
       "    </tr>\n",
       "  </thead>\n",
       "  <tbody>\n",
       "    <tr>\n",
       "      <th>0</th>\n",
       "      <td>ACCENTURE</td>\n",
       "      <td>ROYAL ENFIELD</td>\n",
       "      <td>1</td>\n",
       "      <td>1</td>\n",
       "      <td>1</td>\n",
       "      <td>1</td>\n",
       "      <td>1</td>\n",
       "      <td>0</td>\n",
       "      <td>0</td>\n",
       "      <td>0</td>\n",
       "      <td>0</td>\n",
       "      <td>0</td>\n",
       "      <td>0</td>\n",
       "      <td>1</td>\n",
       "      <td>1</td>\n",
       "      <td>0</td>\n",
       "      <td>2</td>\n",
       "      <td>0</td>\n",
       "      <td>1.1</td>\n",
       "      <td>1</td>\n",
       "    </tr>\n",
       "    <tr>\n",
       "      <th>1</th>\n",
       "      <td>ACCENTURE</td>\n",
       "      <td>ROYAL ENFIELD</td>\n",
       "      <td>1</td>\n",
       "      <td>2</td>\n",
       "      <td>1</td>\n",
       "      <td>1</td>\n",
       "      <td>2</td>\n",
       "      <td>0</td>\n",
       "      <td>0</td>\n",
       "      <td>0</td>\n",
       "      <td>0</td>\n",
       "      <td>0</td>\n",
       "      <td>0</td>\n",
       "      <td>0</td>\n",
       "      <td>1</td>\n",
       "      <td>0</td>\n",
       "      <td>1</td>\n",
       "      <td>0</td>\n",
       "      <td>1.2</td>\n",
       "      <td>1</td>\n",
       "    </tr>\n",
       "    <tr>\n",
       "      <th>2</th>\n",
       "      <td>ACCENTURE</td>\n",
       "      <td>ROYAL ENFIELD</td>\n",
       "      <td>1</td>\n",
       "      <td>3</td>\n",
       "      <td>1</td>\n",
       "      <td>1</td>\n",
       "      <td>2</td>\n",
       "      <td>0</td>\n",
       "      <td>0</td>\n",
       "      <td>0</td>\n",
       "      <td>0</td>\n",
       "      <td>0</td>\n",
       "      <td>0</td>\n",
       "      <td>4</td>\n",
       "      <td>2</td>\n",
       "      <td>4</td>\n",
       "      <td>4</td>\n",
       "      <td>0</td>\n",
       "      <td>1.3</td>\n",
       "      <td>5</td>\n",
       "    </tr>\n",
       "    <tr>\n",
       "      <th>3</th>\n",
       "      <td>ACCENTURE</td>\n",
       "      <td>ROYAL ENFIELD</td>\n",
       "      <td>1</td>\n",
       "      <td>4</td>\n",
       "      <td>1</td>\n",
       "      <td>1</td>\n",
       "      <td>2</td>\n",
       "      <td>0</td>\n",
       "      <td>2</td>\n",
       "      <td>0</td>\n",
       "      <td>0</td>\n",
       "      <td>0</td>\n",
       "      <td>0</td>\n",
       "      <td>0</td>\n",
       "      <td>3</td>\n",
       "      <td>0</td>\n",
       "      <td>1</td>\n",
       "      <td>0</td>\n",
       "      <td>1.4</td>\n",
       "      <td>7</td>\n",
       "    </tr>\n",
       "    <tr>\n",
       "      <th>4</th>\n",
       "      <td>ACCENTURE</td>\n",
       "      <td>ROYAL ENFIELD</td>\n",
       "      <td>1</td>\n",
       "      <td>4</td>\n",
       "      <td>1</td>\n",
       "      <td>1</td>\n",
       "      <td>1</td>\n",
       "      <td>0</td>\n",
       "      <td>0</td>\n",
       "      <td>0</td>\n",
       "      <td>0</td>\n",
       "      <td>0</td>\n",
       "      <td>0</td>\n",
       "      <td>3</td>\n",
       "      <td>2</td>\n",
       "      <td>0</td>\n",
       "      <td>3</td>\n",
       "      <td>0</td>\n",
       "      <td>1.4</td>\n",
       "      <td>10</td>\n",
       "    </tr>\n",
       "  </tbody>\n",
       "</table>\n",
       "</div>"
      ],
      "text/plain": [
       "  batting_team   bowling_team  over_num  ball_num  stage  bowler_num  \\\n",
       "0   ACCENTURE   ROYAL ENFIELD         1         1      1           1   \n",
       "1   ACCENTURE   ROYAL ENFIELD         1         2      1           1   \n",
       "2   ACCENTURE   ROYAL ENFIELD         1         3      1           1   \n",
       "3   ACCENTURE   ROYAL ENFIELD         1         4      1           1   \n",
       "4   ACCENTURE   ROYAL ENFIELD         1         4      1           1   \n",
       "\n",
       "   batsman_num  howout  wide_runs  noball  noball_bat_runs  LegByes_runs  \\\n",
       "0            1       0          0       0                0             0   \n",
       "1            2       0          0       0                0             0   \n",
       "2            2       0          0       0                0             0   \n",
       "3            2       0          2       0                0             0   \n",
       "4            1       0          0       0                0             0   \n",
       "\n",
       "   Byes_runs  Bat_runs  Balls_faced  boundary  scoring_id  wickets  Overs  \\\n",
       "0          0         1            1         0           2        0    1.1   \n",
       "1          0         0            1         0           1        0    1.2   \n",
       "2          0         4            2         4           4        0    1.3   \n",
       "3          0         0            3         0           1        0    1.4   \n",
       "4          0         3            2         0           3        0    1.4   \n",
       "\n",
       "   runs  \n",
       "0     1  \n",
       "1     1  \n",
       "2     5  \n",
       "3     7  \n",
       "4    10  "
      ]
     },
     "execution_count": 26,
     "metadata": {},
     "output_type": "execute_result"
    }
   ],
   "source": [
    "test_df.head()"
   ]
  },
  {
   "cell_type": "code",
   "execution_count": 27,
   "id": "2ff8efea",
   "metadata": {},
   "outputs": [],
   "source": [
    "# saving the dataframe\n",
    "#test_df.to_csv(r'E:Flask_dataset\\updatedFile1.csv',index=False)"
   ]
  },
  {
   "cell_type": "code",
   "execution_count": 28,
   "id": "93f6fcc3",
   "metadata": {},
   "outputs": [],
   "source": [
    "pred_df = test_df"
   ]
  },
  {
   "cell_type": "code",
   "execution_count": 29,
   "id": "8d28ce16",
   "metadata": {},
   "outputs": [
    {
     "data": {
      "text/plain": [
       "Index(['batting_team', 'bowling_team', 'over_num', 'ball_num', 'stage',\n",
       "       'bowler_num', 'batsman_num', 'howout', 'wide_runs', 'noball',\n",
       "       'noball_bat_runs', 'LegByes_runs', 'Byes_runs', 'Bat_runs',\n",
       "       'Balls_faced', 'boundary', 'scoring_id', 'wickets', 'Overs', 'runs'],\n",
       "      dtype='object')"
      ]
     },
     "execution_count": 29,
     "metadata": {},
     "output_type": "execute_result"
    }
   ],
   "source": [
    "pred_df.columns"
   ]
  },
  {
   "cell_type": "code",
   "execution_count": 30,
   "id": "2f5cc32b",
   "metadata": {},
   "outputs": [],
   "source": [
    "pred_df = pred_df[['batting_team', 'bowling_team','wickets', 'Overs', 'runs']]"
   ]
  },
  {
   "cell_type": "code",
   "execution_count": 31,
   "id": "4e1621f8",
   "metadata": {},
   "outputs": [
    {
     "name": "stderr",
     "output_type": "stream",
     "text": [
      "C:\\Users\\SIVASA~1\\AppData\\Local\\Temp/ipykernel_13700/4015694832.py:2: SettingWithCopyWarning: \n",
      "A value is trying to be set on a copy of a slice from a DataFrame.\n",
      "Try using .loc[row_indexer,col_indexer] = value instead\n",
      "\n",
      "See the caveats in the documentation: https://pandas.pydata.org/pandas-docs/stable/user_guide/indexing.html#returning-a-view-versus-a-copy\n",
      "  pred_df['runs_last_5'] =selected_column.copy()\n"
     ]
    }
   ],
   "source": [
    "selected_column = pred_df[['runs']]\n",
    "pred_df['runs_last_5'] =selected_column.copy()\n",
    "\n"
   ]
  },
  {
   "cell_type": "code",
   "execution_count": 32,
   "id": "7a316233",
   "metadata": {},
   "outputs": [
    {
     "name": "stderr",
     "output_type": "stream",
     "text": [
      "C:\\Users\\SIVASA~1\\AppData\\Local\\Temp/ipykernel_13700/434841877.py:2: SettingWithCopyWarning: \n",
      "A value is trying to be set on a copy of a slice from a DataFrame.\n",
      "Try using .loc[row_indexer,col_indexer] = value instead\n",
      "\n",
      "See the caveats in the documentation: https://pandas.pydata.org/pandas-docs/stable/user_guide/indexing.html#returning-a-view-versus-a-copy\n",
      "  pred_df['wickets_last_5'] =selected_column.copy()\n"
     ]
    }
   ],
   "source": [
    "selected_column = pred_df[['wickets']]\n",
    "pred_df['wickets_last_5'] =selected_column.copy()"
   ]
  },
  {
   "cell_type": "code",
   "execution_count": 33,
   "id": "79acc5ee",
   "metadata": {},
   "outputs": [],
   "source": [
    "# Removing the first 5 overs data in every match\n",
    "df = pred_df[pred_df['Overs']>=5.0]"
   ]
  },
  {
   "cell_type": "code",
   "execution_count": 34,
   "id": "6e378450",
   "metadata": {},
   "outputs": [
    {
     "data": {
      "text/html": [
       "<div>\n",
       "<style scoped>\n",
       "    .dataframe tbody tr th:only-of-type {\n",
       "        vertical-align: middle;\n",
       "    }\n",
       "\n",
       "    .dataframe tbody tr th {\n",
       "        vertical-align: top;\n",
       "    }\n",
       "\n",
       "    .dataframe thead th {\n",
       "        text-align: right;\n",
       "    }\n",
       "</style>\n",
       "<table border=\"1\" class=\"dataframe\">\n",
       "  <thead>\n",
       "    <tr style=\"text-align: right;\">\n",
       "      <th></th>\n",
       "      <th>batting_team</th>\n",
       "      <th>bowling_team</th>\n",
       "      <th>wickets</th>\n",
       "      <th>Overs</th>\n",
       "      <th>runs</th>\n",
       "      <th>runs_last_5</th>\n",
       "      <th>wickets_last_5</th>\n",
       "    </tr>\n",
       "  </thead>\n",
       "  <tbody>\n",
       "    <tr>\n",
       "      <th>26</th>\n",
       "      <td>ACCENTURE</td>\n",
       "      <td>ROYAL ENFIELD</td>\n",
       "      <td>0</td>\n",
       "      <td>5.1</td>\n",
       "      <td>30</td>\n",
       "      <td>30</td>\n",
       "      <td>0</td>\n",
       "    </tr>\n",
       "    <tr>\n",
       "      <th>27</th>\n",
       "      <td>ACCENTURE</td>\n",
       "      <td>ROYAL ENFIELD</td>\n",
       "      <td>0</td>\n",
       "      <td>5.1</td>\n",
       "      <td>34</td>\n",
       "      <td>34</td>\n",
       "      <td>0</td>\n",
       "    </tr>\n",
       "    <tr>\n",
       "      <th>28</th>\n",
       "      <td>ACCENTURE</td>\n",
       "      <td>ROYAL ENFIELD</td>\n",
       "      <td>0</td>\n",
       "      <td>5.2</td>\n",
       "      <td>34</td>\n",
       "      <td>34</td>\n",
       "      <td>0</td>\n",
       "    </tr>\n",
       "    <tr>\n",
       "      <th>29</th>\n",
       "      <td>ACCENTURE</td>\n",
       "      <td>ROYAL ENFIELD</td>\n",
       "      <td>0</td>\n",
       "      <td>5.3</td>\n",
       "      <td>34</td>\n",
       "      <td>34</td>\n",
       "      <td>0</td>\n",
       "    </tr>\n",
       "    <tr>\n",
       "      <th>30</th>\n",
       "      <td>ACCENTURE</td>\n",
       "      <td>ROYAL ENFIELD</td>\n",
       "      <td>0</td>\n",
       "      <td>5.4</td>\n",
       "      <td>35</td>\n",
       "      <td>35</td>\n",
       "      <td>0</td>\n",
       "    </tr>\n",
       "  </tbody>\n",
       "</table>\n",
       "</div>"
      ],
      "text/plain": [
       "   batting_team   bowling_team  wickets  Overs  runs  runs_last_5  \\\n",
       "26   ACCENTURE   ROYAL ENFIELD        0    5.1    30           30   \n",
       "27   ACCENTURE   ROYAL ENFIELD        0    5.1    34           34   \n",
       "28   ACCENTURE   ROYAL ENFIELD        0    5.2    34           34   \n",
       "29   ACCENTURE   ROYAL ENFIELD        0    5.3    34           34   \n",
       "30   ACCENTURE   ROYAL ENFIELD        0    5.4    35           35   \n",
       "\n",
       "    wickets_last_5  \n",
       "26               0  \n",
       "27               0  \n",
       "28               0  \n",
       "29               0  \n",
       "30               0  "
      ]
     },
     "execution_count": 34,
     "metadata": {},
     "output_type": "execute_result"
    }
   ],
   "source": [
    "df.head()"
   ]
  },
  {
   "cell_type": "code",
   "execution_count": 35,
   "id": "17bf0ee8",
   "metadata": {},
   "outputs": [],
   "source": [
    "encoded_df = pd.get_dummies(data=df, columns=['batting_team', 'bowling_team'])"
   ]
  },
  {
   "cell_type": "code",
   "execution_count": 36,
   "id": "1e78bc39",
   "metadata": {},
   "outputs": [
    {
     "data": {
      "text/html": [
       "<div>\n",
       "<style scoped>\n",
       "    .dataframe tbody tr th:only-of-type {\n",
       "        vertical-align: middle;\n",
       "    }\n",
       "\n",
       "    .dataframe tbody tr th {\n",
       "        vertical-align: top;\n",
       "    }\n",
       "\n",
       "    .dataframe thead th {\n",
       "        text-align: right;\n",
       "    }\n",
       "</style>\n",
       "<table border=\"1\" class=\"dataframe\">\n",
       "  <thead>\n",
       "    <tr style=\"text-align: right;\">\n",
       "      <th></th>\n",
       "      <th>wickets</th>\n",
       "      <th>Overs</th>\n",
       "      <th>runs</th>\n",
       "      <th>runs_last_5</th>\n",
       "      <th>wickets_last_5</th>\n",
       "      <th>batting_team_ACCENTURE</th>\n",
       "      <th>bowling_team_ROYAL ENFIELD</th>\n",
       "    </tr>\n",
       "  </thead>\n",
       "  <tbody>\n",
       "    <tr>\n",
       "      <th>26</th>\n",
       "      <td>0</td>\n",
       "      <td>5.1</td>\n",
       "      <td>30</td>\n",
       "      <td>30</td>\n",
       "      <td>0</td>\n",
       "      <td>1</td>\n",
       "      <td>1</td>\n",
       "    </tr>\n",
       "    <tr>\n",
       "      <th>27</th>\n",
       "      <td>0</td>\n",
       "      <td>5.1</td>\n",
       "      <td>34</td>\n",
       "      <td>34</td>\n",
       "      <td>0</td>\n",
       "      <td>1</td>\n",
       "      <td>1</td>\n",
       "    </tr>\n",
       "    <tr>\n",
       "      <th>28</th>\n",
       "      <td>0</td>\n",
       "      <td>5.2</td>\n",
       "      <td>34</td>\n",
       "      <td>34</td>\n",
       "      <td>0</td>\n",
       "      <td>1</td>\n",
       "      <td>1</td>\n",
       "    </tr>\n",
       "    <tr>\n",
       "      <th>29</th>\n",
       "      <td>0</td>\n",
       "      <td>5.3</td>\n",
       "      <td>34</td>\n",
       "      <td>34</td>\n",
       "      <td>0</td>\n",
       "      <td>1</td>\n",
       "      <td>1</td>\n",
       "    </tr>\n",
       "    <tr>\n",
       "      <th>30</th>\n",
       "      <td>0</td>\n",
       "      <td>5.4</td>\n",
       "      <td>35</td>\n",
       "      <td>35</td>\n",
       "      <td>0</td>\n",
       "      <td>1</td>\n",
       "      <td>1</td>\n",
       "    </tr>\n",
       "  </tbody>\n",
       "</table>\n",
       "</div>"
      ],
      "text/plain": [
       "    wickets  Overs  runs  runs_last_5  wickets_last_5  \\\n",
       "26        0    5.1    30           30               0   \n",
       "27        0    5.1    34           34               0   \n",
       "28        0    5.2    34           34               0   \n",
       "29        0    5.3    34           34               0   \n",
       "30        0    5.4    35           35               0   \n",
       "\n",
       "    batting_team_ACCENTURE   bowling_team_ROYAL ENFIELD  \n",
       "26                        1                           1  \n",
       "27                        1                           1  \n",
       "28                        1                           1  \n",
       "29                        1                           1  \n",
       "30                        1                           1  "
      ]
     },
     "execution_count": 36,
     "metadata": {},
     "output_type": "execute_result"
    }
   ],
   "source": [
    "encoded_df.head()"
   ]
  },
  {
   "cell_type": "code",
   "execution_count": 37,
   "id": "df6023e5",
   "metadata": {},
   "outputs": [
    {
     "data": {
      "text/plain": [
       "Index(['wickets', 'Overs', 'runs', 'runs_last_5', 'wickets_last_5',\n",
       "       'batting_team_ACCENTURE ', 'bowling_team_ROYAL ENFIELD'],\n",
       "      dtype='object')"
      ]
     },
     "execution_count": 37,
     "metadata": {},
     "output_type": "execute_result"
    }
   ],
   "source": [
    "encoded_df.columns"
   ]
  },
  {
   "cell_type": "code",
   "execution_count": 38,
   "id": "99a14590",
   "metadata": {},
   "outputs": [],
   "source": [
    "encoded_df=encoded_df[['batting_team_ACCENTURE ', 'bowling_team_ROYAL ENFIELD','Overs','wickets','runs_last_5', 'wickets_last_5','runs']]"
   ]
  },
  {
   "cell_type": "code",
   "execution_count": 39,
   "id": "0cdc81fd",
   "metadata": {},
   "outputs": [
    {
     "data": {
      "text/html": [
       "<div>\n",
       "<style scoped>\n",
       "    .dataframe tbody tr th:only-of-type {\n",
       "        vertical-align: middle;\n",
       "    }\n",
       "\n",
       "    .dataframe tbody tr th {\n",
       "        vertical-align: top;\n",
       "    }\n",
       "\n",
       "    .dataframe thead th {\n",
       "        text-align: right;\n",
       "    }\n",
       "</style>\n",
       "<table border=\"1\" class=\"dataframe\">\n",
       "  <thead>\n",
       "    <tr style=\"text-align: right;\">\n",
       "      <th></th>\n",
       "      <th>batting_team_ACCENTURE</th>\n",
       "      <th>bowling_team_ROYAL ENFIELD</th>\n",
       "      <th>Overs</th>\n",
       "      <th>wickets</th>\n",
       "      <th>runs_last_5</th>\n",
       "      <th>wickets_last_5</th>\n",
       "      <th>runs</th>\n",
       "    </tr>\n",
       "  </thead>\n",
       "  <tbody>\n",
       "    <tr>\n",
       "      <th>26</th>\n",
       "      <td>1</td>\n",
       "      <td>1</td>\n",
       "      <td>5.1</td>\n",
       "      <td>0</td>\n",
       "      <td>30</td>\n",
       "      <td>0</td>\n",
       "      <td>30</td>\n",
       "    </tr>\n",
       "    <tr>\n",
       "      <th>27</th>\n",
       "      <td>1</td>\n",
       "      <td>1</td>\n",
       "      <td>5.1</td>\n",
       "      <td>0</td>\n",
       "      <td>34</td>\n",
       "      <td>0</td>\n",
       "      <td>34</td>\n",
       "    </tr>\n",
       "    <tr>\n",
       "      <th>28</th>\n",
       "      <td>1</td>\n",
       "      <td>1</td>\n",
       "      <td>5.2</td>\n",
       "      <td>0</td>\n",
       "      <td>34</td>\n",
       "      <td>0</td>\n",
       "      <td>34</td>\n",
       "    </tr>\n",
       "    <tr>\n",
       "      <th>29</th>\n",
       "      <td>1</td>\n",
       "      <td>1</td>\n",
       "      <td>5.3</td>\n",
       "      <td>0</td>\n",
       "      <td>34</td>\n",
       "      <td>0</td>\n",
       "      <td>34</td>\n",
       "    </tr>\n",
       "    <tr>\n",
       "      <th>30</th>\n",
       "      <td>1</td>\n",
       "      <td>1</td>\n",
       "      <td>5.4</td>\n",
       "      <td>0</td>\n",
       "      <td>35</td>\n",
       "      <td>0</td>\n",
       "      <td>35</td>\n",
       "    </tr>\n",
       "  </tbody>\n",
       "</table>\n",
       "</div>"
      ],
      "text/plain": [
       "    batting_team_ACCENTURE   bowling_team_ROYAL ENFIELD  Overs  wickets  \\\n",
       "26                        1                           1    5.1        0   \n",
       "27                        1                           1    5.1        0   \n",
       "28                        1                           1    5.2        0   \n",
       "29                        1                           1    5.3        0   \n",
       "30                        1                           1    5.4        0   \n",
       "\n",
       "    runs_last_5  wickets_last_5  runs  \n",
       "26           30               0    30  \n",
       "27           34               0    34  \n",
       "28           34               0    34  \n",
       "29           34               0    34  \n",
       "30           35               0    35  "
      ]
     },
     "execution_count": 39,
     "metadata": {},
     "output_type": "execute_result"
    }
   ],
   "source": [
    "encoded_df.head()"
   ]
  },
  {
   "cell_type": "code",
   "execution_count": 40,
   "id": "b8f6dfa9",
   "metadata": {},
   "outputs": [],
   "source": [
    "# saving the dataframe\n",
    "#encoded_df.to_csv(r'E:Flask_dataset\\updatedFile2.csv',index=False)"
   ]
  },
  {
   "cell_type": "code",
   "execution_count": 41,
   "id": "0e39a0f1",
   "metadata": {},
   "outputs": [
    {
     "data": {
      "image/png": "[encoded data removed]",
      "text/plain": [
       "<Figure size 864x432 with 1 Axes>"
      ]
     },
     "metadata": {
      "needs_background": "light"
     },
     "output_type": "display_data"
    }
   ],
   "source": [
    "sns.lmplot(x='Overs',y='runs',data=df,aspect=2,height=6)\n",
    "plt.xlabel('OVERS')\n",
    "plt.ylabel('RUNS')\n",
    "plt.title('CRICKET SCORE PREDICTION');"
   ]
  },
  {
   "cell_type": "code",
   "execution_count": 42,
   "id": "aae74e0c",
   "metadata": {},
   "outputs": [
    {
     "data": {
      "text/html": [
       "<div>\n",
       "<style scoped>\n",
       "    .dataframe tbody tr th:only-of-type {\n",
       "        vertical-align: middle;\n",
       "    }\n",
       "\n",
       "    .dataframe tbody tr th {\n",
       "        vertical-align: top;\n",
       "    }\n",
       "\n",
       "    .dataframe thead th {\n",
       "        text-align: right;\n",
       "    }\n",
       "</style>\n",
       "<table border=\"1\" class=\"dataframe\">\n",
       "  <thead>\n",
       "    <tr style=\"text-align: right;\">\n",
       "      <th></th>\n",
       "      <th>batting_team_ACCENTURE</th>\n",
       "      <th>bowling_team_ROYAL ENFIELD</th>\n",
       "      <th>Overs</th>\n",
       "      <th>wickets</th>\n",
       "      <th>runs_last_5</th>\n",
       "      <th>wickets_last_5</th>\n",
       "      <th>runs</th>\n",
       "    </tr>\n",
       "  </thead>\n",
       "  <tbody>\n",
       "    <tr>\n",
       "      <th>count</th>\n",
       "      <td>165.0</td>\n",
       "      <td>165.0</td>\n",
       "      <td>165.000000</td>\n",
       "      <td>165.000000</td>\n",
       "      <td>165.000000</td>\n",
       "      <td>165.000000</td>\n",
       "      <td>165.000000</td>\n",
       "    </tr>\n",
       "    <tr>\n",
       "      <th>mean</th>\n",
       "      <td>1.0</td>\n",
       "      <td>1.0</td>\n",
       "      <td>17.543030</td>\n",
       "      <td>0.054545</td>\n",
       "      <td>121.218182</td>\n",
       "      <td>0.054545</td>\n",
       "      <td>121.218182</td>\n",
       "    </tr>\n",
       "    <tr>\n",
       "      <th>std</th>\n",
       "      <td>0.0</td>\n",
       "      <td>0.0</td>\n",
       "      <td>7.522732</td>\n",
       "      <td>0.227782</td>\n",
       "      <td>47.620076</td>\n",
       "      <td>0.227782</td>\n",
       "      <td>47.620076</td>\n",
       "    </tr>\n",
       "    <tr>\n",
       "      <th>min</th>\n",
       "      <td>1.0</td>\n",
       "      <td>1.0</td>\n",
       "      <td>5.100000</td>\n",
       "      <td>0.000000</td>\n",
       "      <td>30.000000</td>\n",
       "      <td>0.000000</td>\n",
       "      <td>30.000000</td>\n",
       "    </tr>\n",
       "    <tr>\n",
       "      <th>25%</th>\n",
       "      <td>1.0</td>\n",
       "      <td>1.0</td>\n",
       "      <td>11.100000</td>\n",
       "      <td>0.000000</td>\n",
       "      <td>82.000000</td>\n",
       "      <td>0.000000</td>\n",
       "      <td>82.000000</td>\n",
       "    </tr>\n",
       "    <tr>\n",
       "      <th>50%</th>\n",
       "      <td>1.0</td>\n",
       "      <td>1.0</td>\n",
       "      <td>17.400000</td>\n",
       "      <td>0.000000</td>\n",
       "      <td>127.000000</td>\n",
       "      <td>0.000000</td>\n",
       "      <td>127.000000</td>\n",
       "    </tr>\n",
       "    <tr>\n",
       "      <th>75%</th>\n",
       "      <td>1.0</td>\n",
       "      <td>1.0</td>\n",
       "      <td>24.200000</td>\n",
       "      <td>0.000000</td>\n",
       "      <td>160.000000</td>\n",
       "      <td>0.000000</td>\n",
       "      <td>160.000000</td>\n",
       "    </tr>\n",
       "    <tr>\n",
       "      <th>max</th>\n",
       "      <td>1.0</td>\n",
       "      <td>1.0</td>\n",
       "      <td>30.500000</td>\n",
       "      <td>1.000000</td>\n",
       "      <td>200.000000</td>\n",
       "      <td>1.000000</td>\n",
       "      <td>200.000000</td>\n",
       "    </tr>\n",
       "  </tbody>\n",
       "</table>\n",
       "</div>"
      ],
      "text/plain": [
       "       batting_team_ACCENTURE   bowling_team_ROYAL ENFIELD       Overs  \\\n",
       "count                    165.0                       165.0  165.000000   \n",
       "mean                       1.0                         1.0   17.543030   \n",
       "std                        0.0                         0.0    7.522732   \n",
       "min                        1.0                         1.0    5.100000   \n",
       "25%                        1.0                         1.0   11.100000   \n",
       "50%                        1.0                         1.0   17.400000   \n",
       "75%                        1.0                         1.0   24.200000   \n",
       "max                        1.0                         1.0   30.500000   \n",
       "\n",
       "          wickets  runs_last_5  wickets_last_5        runs  \n",
       "count  165.000000   165.000000      165.000000  165.000000  \n",
       "mean     0.054545   121.218182        0.054545  121.218182  \n",
       "std      0.227782    47.620076        0.227782   47.620076  \n",
       "min      0.000000    30.000000        0.000000   30.000000  \n",
       "25%      0.000000    82.000000        0.000000   82.000000  \n",
       "50%      0.000000   127.000000        0.000000  127.000000  \n",
       "75%      0.000000   160.000000        0.000000  160.000000  \n",
       "max      1.000000   200.000000        1.000000  200.000000  "
      ]
     },
     "execution_count": 42,
     "metadata": {},
     "output_type": "execute_result"
    }
   ],
   "source": [
    "encoded_df.describe()"
   ]
  },
  {
   "cell_type": "code",
   "execution_count": 43,
   "id": "97e8f239",
   "metadata": {},
   "outputs": [
    {
     "data": {
      "image/png": "[encoded data removed]",
      "text/plain": [
       "<Figure size 864x288 with 1 Axes>"
      ]
     },
     "metadata": {
      "needs_background": "light"
     },
     "output_type": "display_data"
    }
   ],
   "source": [
    "plt.figure(figsize=(12,4))\n",
    "sns.heatmap(encoded_df.isnull(),cbar=False,cmap='viridis',yticklabels=False)\n",
    "plt.title('Missing value in the dataset');"
   ]
  },
  {
   "cell_type": "code",
   "execution_count": 44,
   "id": "72d1a845",
   "metadata": {},
   "outputs": [
    {
     "data": {
      "image/png": "[encoded data removed]",
      "text/plain": [
       "<Figure size 432x288 with 2 Axes>"
      ]
     },
     "metadata": {
      "needs_background": "light"
     },
     "output_type": "display_data"
    }
   ],
   "source": [
    "# correlation plot\n",
    "corr = encoded_df.corr()\n",
    "sns.heatmap(corr, cmap = 'Wistia', annot= True);"
   ]
  },
  {
   "cell_type": "code",
   "execution_count": 45,
   "id": "f284a355",
   "metadata": {},
   "outputs": [],
   "source": [
    "from sklearn.model_selection import train_test_split\n",
    "X = encoded_df.drop('runs',axis=1) # Independet variable\n",
    "y = encoded_df['runs'] # dependent variable\n",
    "\n",
    "X_train, X_test, y_train, y_test = train_test_split(X,y,test_size=0.3,random_state=23)"
   ]
  },
  {
   "cell_type": "code",
   "execution_count": 46,
   "id": "b24c1b21",
   "metadata": {},
   "outputs": [
    {
     "data": {
      "text/plain": [
       "pandas.core.frame.DataFrame"
      ]
     },
     "execution_count": 46,
     "metadata": {},
     "output_type": "execute_result"
    }
   ],
   "source": [
    "type(X_test)"
   ]
  },
  {
   "cell_type": "code",
   "execution_count": 47,
   "id": "a984d8e4",
   "metadata": {},
   "outputs": [
    {
     "data": {
      "text/plain": [
       "pandas.core.series.Series"
      ]
     },
     "execution_count": 47,
     "metadata": {},
     "output_type": "execute_result"
    }
   ],
   "source": [
    "type(y)\n"
   ]
  },
  {
   "cell_type": "code",
   "execution_count": 48,
   "id": "41ab4edb",
   "metadata": {},
   "outputs": [
    {
     "data": {
      "text/plain": [
       "LinearRegression()"
      ]
     },
     "execution_count": 48,
     "metadata": {},
     "output_type": "execute_result"
    }
   ],
   "source": [
    "# --- Model Building ---\n",
    "# Linear Regression Model\n",
    "from sklearn.linear_model import LinearRegression\n",
    "regressor = LinearRegression()\n",
    "regressor.fit(X_train,y_train)"
   ]
  },
  {
   "cell_type": "code",
   "execution_count": 56,
   "id": "23b133cd",
   "metadata": {},
   "outputs": [
    {
     "data": {
      "text/plain": [
       "array([100.])"
      ]
     },
     "execution_count": 56,
     "metadata": {},
     "output_type": "execute_result"
    }
   ],
   "source": [
    "regressor.predict([[1,1,50.6,5,100,1]])"
   ]
  },
  {
   "cell_type": "code",
   "execution_count": null,
   "id": "3b25414e",
   "metadata": {
    "scrolled": true
   },
   "outputs": [],
   "source": [
    "len(X_test)"
   ]
  },
  {
   "cell_type": "code",
   "execution_count": null,
   "id": "08cf9aa6",
   "metadata": {},
   "outputs": [],
   "source": [
    "regressor.score(X_test,y_test)"
   ]
  },
  {
   "cell_type": "code",
   "execution_count": null,
   "id": "19e11ee2",
   "metadata": {},
   "outputs": [],
   "source": [
    "# Creating a pickle file for the classifier\n",
    "#filename = 'predictions.pkl'\n",
    "#pickle.dump(regressor, open(filename, 'wb'))"
   ]
  },
  {
   "cell_type": "code",
   "execution_count": null,
   "id": "60bd7148",
   "metadata": {},
   "outputs": [],
   "source": []
  }
 ],
 "metadata": {
  "kernelspec": {
   "display_name": "Python 3 (ipykernel)",
   "language": "python",
   "name": "python3"
  },
  "language_info": {
   "codemirror_mode": {
    "name": "ipython",
    "version": 3
   },
   "file_extension": ".py",
   "mimetype": "text/x-python",
   "name": "python",
   "nbconvert_exporter": "python",
   "pygments_lexer": "ipython3",
   "version": "3.9.7"
  }
 },
 "nbformat": 4,
 "nbformat_minor": 5
}
